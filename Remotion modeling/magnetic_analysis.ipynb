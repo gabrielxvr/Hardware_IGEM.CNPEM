{
 "cells": [
  {
   "cell_type": "markdown",
   "id": "001a352b-7215-471f-8db9-bb9ad180e8b1",
   "metadata": {},
   "source": [
    "## Magnetic Remotion Analysis"
   ]
  },
  {
   "cell_type": "code",
   "execution_count": 1,
   "id": "47a866bb-76b4-4a05-aa86-3f0d8b1870b5",
   "metadata": {},
   "outputs": [],
   "source": [
    "import matplotlib.pyplot as plt\n",
    "from matplotlib.colors import Normalize\n",
    "import numpy as np\n",
    "plt.style.use('classic')"
   ]
  },
  {
   "cell_type": "code",
   "execution_count": 2,
   "id": "308c3119-908f-46fb-97a3-01c3a7956c8b",
   "metadata": {},
   "outputs": [],
   "source": [
    "mps_positions = np.load('positions.npy')\n",
    "\n",
    "mps_positions = np.where(mps_positions < 0, 0, mps_positions)"
   ]
  },
  {
   "cell_type": "code",
   "execution_count": 3,
   "id": "7847b0a1-84f4-49ee-8b1e-72cf9d0b7550",
   "metadata": {},
   "outputs": [
    {
     "data": {
      "text/plain": [
       "array([[126.        , 121.        ,  28.        ,  35.        ,\n",
       "         77.        ,  59.        , 314.        , 155.        ,\n",
       "        272.        ,  80.        , 127.        ,  72.        ,\n",
       "         48.        , 193.        , 152.        ,  95.        ,\n",
       "        132.        ,  80.        ,  64.        , 194.        ,\n",
       "        236.        , 182.        , 251.        , 104.        ,\n",
       "        100.        , 193.        , 180.        , 100.        ,\n",
       "        139.        , 136.        , 251.        , 159.        ,\n",
       "        138.        ,  16.        , 234.        ,  87.        ,\n",
       "         67.        ,  39.        , 290.        , 157.        ,\n",
       "        226.        ,  79.        , 361.        , 190.        ,\n",
       "        254.        , 175.        ,  73.        ,  92.        ,\n",
       "        141.        , 169.        , 211.        , 191.        ,\n",
       "        392.        ,  35.        , 178.        ,  40.        ,\n",
       "        341.        ,  87.        , 231.        ,   7.        ,\n",
       "        231.        , 155.        ,  27.        , 132.        ,\n",
       "        148.        , 175.        , 371.        , 178.        ,\n",
       "        363.        , 178.        , 204.        , 156.        ,\n",
       "        372.        , 139.        ,  78.        ,  42.        ,\n",
       "         70.        , 153.        , 238.        ,  68.        ,\n",
       "        132.        , 128.        , 219.        ,  88.        ,\n",
       "        356.        , 137.        ,  80.        ,  59.        ,\n",
       "        246.        , 132.        , 122.        , 157.        ,\n",
       "        123.        , 146.        , 208.        ,  76.        ,\n",
       "        260.        ,  31.        , 190.        , 161.        ],\n",
       "       [126.        , 121.        ,  28.        ,  35.        ,\n",
       "         77.        ,  59.        , 314.        , 155.        ,\n",
       "        272.        ,  80.        , 127.        ,  72.        ,\n",
       "         48.        , 193.        , 152.        ,  95.        ,\n",
       "        132.        ,  80.        ,  64.        , 194.        ,\n",
       "        236.        , 182.        , 251.        , 104.        ,\n",
       "        100.        , 193.        , 180.        , 100.        ,\n",
       "        139.        , 136.        , 251.        , 159.        ,\n",
       "        138.        ,  16.        , 234.        ,  87.        ,\n",
       "         67.        ,  39.        , 290.        , 157.        ,\n",
       "        226.        ,  79.        , 361.        , 190.        ,\n",
       "        254.        , 175.        ,  73.        ,  92.        ,\n",
       "        141.        , 169.        , 211.        , 191.        ,\n",
       "        392.        ,  35.        , 178.        ,  40.        ,\n",
       "        341.        ,  87.        , 231.        ,   7.        ,\n",
       "        231.        , 155.        ,  27.        , 132.        ,\n",
       "        148.        , 175.        , 371.        , 178.        ,\n",
       "        363.        , 178.        , 204.        , 156.        ,\n",
       "        372.        , 139.        ,  78.        ,  42.        ,\n",
       "         70.        , 153.        , 238.        ,  68.        ,\n",
       "        132.        , 128.        , 219.        ,  88.        ,\n",
       "        356.        , 137.        ,  80.        ,  59.        ,\n",
       "        246.        , 132.        , 122.        , 157.        ,\n",
       "        123.        , 146.        , 208.        ,  76.        ,\n",
       "        260.        ,  31.        , 190.        , 161.        ],\n",
       "       [125.99999847, 120.99999847,  27.99985409,  34.99985409,\n",
       "         76.99998869,  58.99998869, 313.99999986, 154.99999986,\n",
       "        271.99999974,  79.99999974, 126.99999756,  71.99999756,\n",
       "         47.99999951, 192.99999951, 151.99999872,  94.99999872,\n",
       "        131.99999791,  79.99999791,  63.99999945, 193.99999945,\n",
       "        235.99999977, 181.99999977, 250.99999969, 103.99999969,\n",
       "         99.99999943, 192.99999943, 179.99999922,  99.99999922,\n",
       "        138.99999897, 135.99999897, 250.99999976, 158.99999976,\n",
       "        137.99999821,  15.99999821, 233.99999961,  86.99999961,\n",
       "         66.99998327,  38.99998327, 289.99999983, 156.99999983,\n",
       "        225.99999956,  78.99999956, 360.99999991, 189.99999991,\n",
       "        253.99999979, 174.99999979,  72.9999923 ,  91.9999923 ,\n",
       "        140.99999935, 168.99999935, 210.99999973, 190.99999973,\n",
       "        391.99999991,  34.99999991, 177.99999907,  39.99999907,\n",
       "        340.99999987,  86.99999987, 230.9999996 ,   6.9999996 ,\n",
       "        230.9999997 , 154.9999997 ,  26.99999742, 131.99999742,\n",
       "        147.99999944, 174.99999944, 370.99999992, 177.99999992,\n",
       "        362.99999991, 177.99999991, 203.99999961, 155.99999961,\n",
       "        371.99999991, 138.99999991,  77.99998905,  41.99998905,\n",
       "         69.99999846, 152.99999846, 237.99999961,  67.99999961,\n",
       "        131.99999873, 127.99999873, 218.99999952,  87.99999952,\n",
       "        355.9999999 , 136.9999999 ,  79.9999899 ,  58.9999899 ,\n",
       "        245.99999971, 131.99999971, 121.99999907, 156.99999907,\n",
       "        122.9999989 , 145.9999989 , 207.99999943,  75.99999943,\n",
       "        259.9999997 ,  30.9999997 , 189.99999957, 160.99999957],\n",
       "       [125.99999796, 120.99999796,  27.99980546,  34.99980546,\n",
       "         76.99998492,  58.99998492, 313.99999982, 154.99999982,\n",
       "        271.99999966,  79.99999966, 126.99999675,  71.99999675,\n",
       "         47.99999934, 192.99999934, 151.9999983 ,  94.9999983 ,\n",
       "        131.99999722,  79.99999722,  63.99999927, 193.99999927,\n",
       "        235.99999969, 181.99999969, 250.99999959, 103.99999959,\n",
       "         99.99999924, 192.99999924, 179.99999895,  99.99999895,\n",
       "        138.99999862, 135.99999862, 250.99999968, 158.99999968,\n",
       "        137.99999761,  15.99999761, 233.99999947,  86.99999947,\n",
       "         66.9999777 ,  38.9999777 , 289.99999978, 156.99999978,\n",
       "        225.99999941,  78.99999941, 360.99999989, 189.99999989,\n",
       "        253.99999972, 174.99999972,  72.99998974,  91.99998974,\n",
       "        140.99999914, 168.99999914, 210.99999964, 190.99999964,\n",
       "        391.99999988,  34.99999988, 177.99999875,  39.99999875,\n",
       "        340.99999983,  86.99999983, 230.99999946,   6.99999946,\n",
       "        230.99999961, 154.99999961,  26.99999656, 131.99999656,\n",
       "        147.99999926, 174.99999926, 370.99999989, 177.99999989,\n",
       "        362.99999988, 177.99999988, 203.99999948, 155.99999948,\n",
       "        371.99999988, 138.99999988,  77.9999854 ,  41.9999854 ,\n",
       "         69.99999794, 152.99999794, 237.99999948,  67.99999948,\n",
       "        131.99999831, 127.99999831, 218.99999937,  87.99999937,\n",
       "        355.99999986, 136.99999986,  79.99998653,  58.99998653,\n",
       "        245.99999962, 131.99999962, 121.99999876, 156.99999876,\n",
       "        122.99999853, 145.99999853, 207.99999924,  75.99999924,\n",
       "        259.9999996 ,  30.9999996 , 189.99999943, 160.99999943],\n",
       "       [125.99999677, 120.99999677,  27.99969197,  34.99969197,\n",
       "         76.99997612,  58.99997612, 313.99999971, 154.99999971,\n",
       "        271.99999946,  79.99999946, 126.99999485,  71.99999485,\n",
       "         47.99999896, 192.99999896, 151.9999973 ,  94.9999973 ,\n",
       "        131.9999956 ,  79.9999956 ,  63.99999884, 193.99999884,\n",
       "        235.99999951, 181.99999951, 250.99999935, 103.99999935,\n",
       "         99.99999879, 192.99999879, 179.99999834,  99.99999834,\n",
       "        138.99999782, 135.99999782, 250.9999995 , 158.9999995 ,\n",
       "        137.99999621,  15.99999621, 233.99999917,  86.99999917,\n",
       "         66.99996469,  38.99996469, 289.99999964, 156.99999964,\n",
       "        225.99999906,  78.99999906, 360.99999982, 189.99999982,\n",
       "        253.99999956, 174.99999956,  72.99998375,  91.99998375,\n",
       "        140.99999864, 168.99999864, 210.99999943, 190.99999943,\n",
       "        391.99999981,  34.99999981, 177.99999803,  39.99999803,\n",
       "        340.99999972,  86.99999972, 230.99999915,   6.99999915,\n",
       "        230.99999938, 154.99999938,  26.99999456, 131.99999456,\n",
       "        147.99999882, 174.99999882, 370.99999982, 177.99999982,\n",
       "        362.99999981, 177.99999981, 203.99999918, 155.99999918,\n",
       "        371.99999981, 138.99999981,  77.99997689,  41.99997689,\n",
       "         69.99999674, 152.99999674, 237.99999918,  67.99999918,\n",
       "        131.99999732, 127.99999732, 218.999999  ,  87.999999  ,\n",
       "        355.99999978, 136.99999978,  79.99997867,  58.99997867,\n",
       "        245.99999939, 131.99999939, 121.99999803, 156.99999803,\n",
       "        122.99999768, 145.99999768, 207.99999879,  75.99999879,\n",
       "        259.99999937,  30.99999937, 189.99999909, 160.99999909],\n",
       "       [125.99999604, 120.99999604,  27.99962172,  34.99962172,\n",
       "         76.99997068,  58.99997068, 313.99999964, 154.99999964,\n",
       "        271.99999933,  79.99999933, 126.99999367,  71.99999367,\n",
       "         47.99999872, 192.99999872, 151.99999669,  94.99999669,\n",
       "        131.99999459,  79.99999459,  63.99999857, 193.99999857,\n",
       "        235.99999939, 181.99999939, 250.99999921, 103.99999921,\n",
       "         99.99999852, 192.99999852, 179.99999797,  99.99999797,\n",
       "        138.99999732, 135.99999732, 250.99999938, 158.99999938,\n",
       "        137.99999535,  15.99999535, 233.99999898,  86.99999898,\n",
       "         66.99995664,  38.99995664, 289.99999956, 156.99999956,\n",
       "        225.99999885,  78.99999885, 360.99999978, 189.99999978,\n",
       "        253.99999946, 174.99999946,  72.99998004,  91.99998004,\n",
       "        140.99999833, 168.99999833, 210.9999993 , 190.9999993 ,\n",
       "        391.99999977,  34.99999977, 177.99999758,  39.99999758,\n",
       "        340.99999966,  86.99999966, 230.99999896,   6.99999896,\n",
       "        230.99999923, 154.99999923,  26.99999331, 131.99999331,\n",
       "        147.99999855, 174.99999855, 370.99999978, 177.99999978,\n",
       "        362.99999977, 177.99999977, 203.999999  , 155.999999  ,\n",
       "        371.99999976, 138.99999976,  77.99997162,  41.99997162,\n",
       "         69.999996  , 152.999996  , 237.99999899,  67.99999899,\n",
       "        131.99999671, 127.99999671, 218.99999877,  87.99999877,\n",
       "        355.99999973, 136.99999973,  79.9999738 ,  58.9999738 ,\n",
       "        245.99999925, 131.99999925, 121.99999758, 156.99999758,\n",
       "        122.99999715, 145.99999715, 207.99999852,  75.99999852,\n",
       "        259.99999923,  30.99999923, 189.99999889, 160.99999889]])"
      ]
     },
     "execution_count": 3,
     "metadata": {},
     "output_type": "execute_result"
    }
   ],
   "source": [
    "mps_positions"
   ]
  },
  {
   "cell_type": "code",
   "execution_count": 4,
   "id": "0b3065a9-07dd-4550-9f6c-b58d6e616bde",
   "metadata": {},
   "outputs": [],
   "source": [
    "N = np.shape(mps_positions)[0]\n",
    "time = np.arange(0, N, 1)"
   ]
  },
  {
   "cell_type": "code",
   "execution_count": 5,
   "id": "dc960171-087d-486e-b0fd-f7cbfb0a211f",
   "metadata": {},
   "outputs": [],
   "source": [
    "magnet_position = np.array([0, 50])\n",
    "\n",
    "distance_mp_mgnt = np.sqrt((mps_positions[:, 0] - magnet_position[0])**2+ (mps_positions[:, 1] - magnet_position[1])**2)"
   ]
  },
  {
   "cell_type": "code",
   "execution_count": 6,
   "id": "6d30efe2-8857-4307-bcc3-6b130170c4d1",
   "metadata": {},
   "outputs": [
    {
     "data": {
      "text/plain": [
       "array([144.62710673, 144.62710673, 144.62710465, 144.62710395,\n",
       "       144.62710233, 144.62710133])"
      ]
     },
     "execution_count": 6,
     "metadata": {},
     "output_type": "execute_result"
    }
   ],
   "source": [
    "distance_mp_mgnt"
   ]
  },
  {
   "cell_type": "code",
   "execution_count": 7,
   "id": "bf16cfe8-2ee6-41b2-a430-084ba56fd6f5",
   "metadata": {},
   "outputs": [],
   "source": [
    "magnet_position = np.array([0, 50])\n",
    "\n",
    "mps_mgnt_distances = {}\n",
    "\n",
    "for i in range(int(np.shape(mps_positions)[1]/2)):\n",
    "    mps_mgnt_distances[f'MP{i}'] = np.sqrt((mps_positions[:, i*2] - magnet_position[0])**2 + (mps_positions[:, i*2+1] - magnet_position[1])**2)"
   ]
  },
  {
   "cell_type": "code",
   "execution_count": 8,
   "id": "8cb0fa16-0777-4baf-92e6-00614e497f65",
   "metadata": {},
   "outputs": [
    {
     "data": {
      "image/png": "[encoded data removed]",
      "text/plain": [
       "<Figure size 1280x720 with 1 Axes>"
      ]
     },
     "metadata": {
      "needs_background": "light"
     },
     "output_type": "display_data"
    }
   ],
   "source": [
    "# Create a colormap and a normalization object\n",
    "norm = Normalize(vmin=0, vmax=895)\n",
    "cmap = plt.get_cmap('RdPu')  # You can choose any colormap\n",
    "\n",
    "# Create the first set of axes on the left side\n",
    "fig, ax1 = plt.subplots(figsize=(16, 9))\n",
    "fig.patch.set_facecolor('none')  # Set the background color to transparent\n",
    "for i in mps_mgnt_distances:\n",
    "    c = cmap(norm(mps_mgnt_distances[i][0]))\n",
    "    ax1.plot(time[:], mps_mgnt_distances[i][:], color=c, label = f'MP{i}-Magnet', linewidth = 2)\n",
    "    ax1.set_xlabel('time', size = 16)\n",
    "    ax1.set_ylabel('distances', color='black', size = 16)\n",
    "    ax1.tick_params('y', colors='black')\n",
    "\n",
    "#ax1.set_xticks([])\n",
    "#ax1.set_yticks([])\n",
    "\n",
    "# Combine the legends from both axes\n",
    "lines, labels = ax1.get_legend_handles_labels()\n",
    "#ax1.legend(lines, labels)\n",
    "\n",
    "#plt.savefig('magnetic_remotion_analysis.png', dpi=600)\n",
    "\n",
    "plt.show()"
   ]
  }
 ],
 "metadata": {
  "kernelspec": {
   "display_name": "ilumpy",
   "language": "python",
   "name": "ilumpy"
  },
  "language_info": {
   "codemirror_mode": {
    "name": "ipython",
    "version": 3
   },
   "file_extension": ".py",
   "mimetype": "text/x-python",
   "name": "python",
   "nbconvert_exporter": "python",
   "pygments_lexer": "ipython3",
   "version": "3.9.7"
  }
 },
 "nbformat": 4,
 "nbformat_minor": 5
}
