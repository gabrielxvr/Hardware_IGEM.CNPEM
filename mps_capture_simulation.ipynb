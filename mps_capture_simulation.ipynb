{
 "cells": [
  {
   "cell_type": "code",
   "execution_count": 1,
   "id": "b211f893",
   "metadata": {},
   "outputs": [],
   "source": [
    "from mps_capture_simulation import Sistema\n",
    "import imageio\n",
    "from tqdm import tqdm\n",
    "import numpy as np"
   ]
  },
  {
   "cell_type": "code",
   "execution_count": null,
   "id": "fe7a1586",
   "metadata": {},
   "outputs": [
    {
     "name": "stderr",
     "output_type": "stream",
     "text": [
      " 24%|███████████████████▍                                                             | 24/100 [03:42<10:43,  8.47s/it]"
     ]
    }
   ],
   "source": [
    "ENERGIA_INTERNA = 1000000\n",
    "VOLUME = 360000\n",
    "NUMERO_DE_PARTICULAS_1 = 100\n",
    "NUMERO_DE_PARTICULAS_2 = 30\n",
    "RAIO_PARTICULA_1 = 2\n",
    "RAIO_PARTICULA_2 = 5\n",
    "\n",
    "Sistema_particulas = Sistema(ENERGIA_INTERNA, VOLUME, NUMERO_DE_PARTICULAS_1, NUMERO_DE_PARTICULAS_2, RAIO_PARTICULA_1, RAIO_PARTICULA_2)\n",
    "\n",
    "N = 100\n",
    "\n",
    "for i in tqdm(range(N)):\n",
    "    Sistema_particulas.main(0.01, 10, i, N)"
   ]
  },
  {
   "cell_type": "code",
   "execution_count": null,
   "id": "06367229",
   "metadata": {},
   "outputs": [],
   "source": [
    "frames = []\n",
    "for i in range(N):\n",
    "    image = imageio.imread(f'./GIF - mps capture simulation/Imagem {i}.jpg')\n",
    "    frames.append(image)"
   ]
  },
  {
   "cell_type": "code",
   "execution_count": null,
   "id": "351cd31c",
   "metadata": {},
   "outputs": [],
   "source": [
    "imageio.mimsave('./mps capture simulation.gif', # output gif\n",
    "               frames,          # array of input frames\n",
    "               duration = 0.1)         # optional: frames per second"
   ]
  },
  {
   "cell_type": "code",
   "execution_count": null,
   "id": "19bf4c5e-815a-4138-bdf2-3f1319f0218a",
   "metadata": {},
   "outputs": [],
   "source": [
    "concs = np.array([Sistema_particulas.concentracoes['A'], Sistema_particulas.concentracoes['B'], Sistema_particulas.concentracoes['C']])\n",
    "np.save('capturas.npy', concs)"
   ]
  }
 ],
 "metadata": {
  "kernelspec": {
   "display_name": "ilumpy",
   "language": "python",
   "name": "ilumpy"
  },
  "language_info": {
   "codemirror_mode": {
    "name": "ipython",
    "version": 3
   },
   "file_extension": ".py",
   "mimetype": "text/x-python",
   "name": "python",
   "nbconvert_exporter": "python",
   "pygments_lexer": "ipython3",
   "version": "3.9.7"
  }
 },
 "nbformat": 4,
 "nbformat_minor": 5
}
