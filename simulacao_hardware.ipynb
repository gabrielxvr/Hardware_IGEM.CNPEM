{
 "cells": [
  {
   "cell_type": "markdown",
   "id": "2cf346cd-0391-4c71-8ec5-aaefbf0e89b0",
   "metadata": {},
   "source": [
    "# Simulação da interação magnética partícula-imã"
   ]
  },
  {
   "cell_type": "markdown",
   "id": "11d26fc5-c35e-4d4f-9b34-42a19b4796fc",
   "metadata": {},
   "source": [
    "## Descrição do Sistema"
   ]
  },
  {
   "cell_type": "markdown",
   "id": "df421526-a864-4c60-b4d5-437f9b37417f",
   "metadata": {},
   "source": [
    "Nas Estações de Tratamento de Água (ETA's), os resíduos de microplásticos restantes serão capturados por estruturas combinadas de encapsulina com proteínas que se ligam a pláticos (PBP's), as quais possuírão, em seu interior, nanopartículas magnéticas, esse complexo será chamado de MPBE-$\\mu$P. Após essa captura, o MPBE-$\\mu$P será direcionado a uma via alternativa a partir de um campo magnético externo, gerado por um imã."
   ]
  },
  {
   "cell_type": "markdown",
   "id": "d3c286a0-df9a-4819-adcf-2ba0032df6f3",
   "metadata": {},
   "source": [
    "## Objetivos"
   ]
  },
  {
   "cell_type": "markdown",
   "id": "59ccf3e8-5c77-4f05-8d8f-b1c4c2121848",
   "metadata": {},
   "source": [
    "O objetivo da simulação é demonstrar o funcionamento do sistema, dado os respectivos valores físicos da realidade."
   ]
  },
  {
   "cell_type": "markdown",
   "id": "cc3a90f8-d2c0-4558-8f40-bae05483794f",
   "metadata": {},
   "source": [
    "## Metodologia"
   ]
  },
  {
   "cell_type": "markdown",
   "id": "b5f52f0a-672a-4d92-84cc-35cc9128673d",
   "metadata": {},
   "source": [
    "- Criar uma classe para os MPBE-$\\mu$P\n",
    "- Adicionar nos argumentos para instanciar a classe, característica como o momento dipolo magnético, a massa dos MPBE-$\\mu$P e a posição inicial em $\\hat{z}$.\n",
    "- Adicionar outras propriedades da classe, como aceleração e a velocidade inicial dos MPBE-$\\mu$P em $\\hat{z}$.\n",
    "- Adicionar um método de movimento para a classe dos MPBE-$\\mu$P\n",
    "- Criar uma classe para o Sistema\n",
    "- Adicionar nos argumentos para instanciar a classe, característica como o campo magnético, a velocidade do fluxo de água, a viscosidade da água e o tamanho do duto.\n",
    "- Criar um método de uptade do sistema na classe Sistema.\n",
    "- Criar uma ilustração no matplotlib"
   ]
  },
  {
   "cell_type": "code",
   "execution_count": 2,
   "id": "baa4eba0-b3e7-4ac2-a5ac-b51e0e5f0d1a",
   "metadata": {},
   "outputs": [],
   "source": [
    "class MPBE_uP:\n",
    "    def __init__(self, u, m, z0, vx, image):\n",
    "        self.momento_dipolo = u\n",
    "        self.massa = m\n",
    "        self.posicao = np.array([0, z0])\n",
    "        self.velocidade = np.arrau([vx, 0])\n",
    "        self.imagem = image\n",
    "        \n",
    "    def calcula_forcas(self, posicao_ima, dip_mag_ima, viscosidade, arraste):\n",
    "        d = np.norm(self.posicao - posicao_ima)\n",
    "        forca_magnetica_r = -self.momento_dipolo*dip_mag_ima/(d**3)\n",
    "        dx = self.posicao[0] - posicao_ima[0]\n",
    "        dy = self.posicao[1] - posicao_ima[1]\n",
    "        forca_magnetica = np.array([(dx/d)*forca_magnetica_r, (dy/d)*forca_magnetica_r])\n",
    "        forca_de_resistencia = viscosidade*(self.velocidade*self.velocidade)\n",
    "        forca_de_arraste = np.array([arraste, 0])\n",
    "        \n",
    "        forca_resultante = forca_magnetica + forca_de_resistencia + forca_de_arraste\n",
    "        \n",
    "        return forca_resultante\n",
    "    \n",
    "    def atualiza_velocidades(self, posicao_ima, dip_mag_ima, viscosidade, arraste):\n",
    "        F = calcula_forcas(self, posicao_ima, dip_mag_ima, viscosidade, arraste)\n",
    "    \n",
    "    def __add__(self, dt):\n",
    "        self.posicao = self.posicao + self.velocidade*dt\n",
    "        return"
   ]
  },
  {
   "cell_type": "code",
   "execution_count": null,
   "id": "3f732efa-f749-4384-82b5-3532c27fdab1",
   "metadata": {},
   "outputs": [],
   "source": []
  }
 ],
 "metadata": {
  "kernelspec": {
   "display_name": "ilumpy",
   "language": "python",
   "name": "ilumpy"
  },
  "language_info": {
   "codemirror_mode": {
    "name": "ipython",
    "version": 3
   },
   "file_extension": ".py",
   "mimetype": "text/x-python",
   "name": "python",
   "nbconvert_exporter": "python",
   "pygments_lexer": "ipython3",
   "version": "3.9.7"
  }
 },
 "nbformat": 4,
 "nbformat_minor": 5
}
