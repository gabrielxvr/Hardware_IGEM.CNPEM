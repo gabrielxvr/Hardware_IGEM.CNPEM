{
 "cells": [
  {
   "cell_type": "code",
   "execution_count": 1,
   "id": "b211f893",
   "metadata": {},
   "outputs": [],
   "source": [
    "from mps_capture_simulation import Sistema\n",
    "import imageio\n",
    "from tqdm import tqdm\n",
    "import numpy as np"
   ]
  },
  {
   "cell_type": "code",
   "execution_count": 2,
   "id": "fe7a1586",
   "metadata": {},
   "outputs": [
    {
     "name": "stderr",
     "output_type": "stream",
     "text": [
      "100%|████████████████████████████████████████████████████████████████████████████████████| 3/3 [00:00<00:00,  3.78it/s]\n"
     ]
    }
   ],
   "source": [
    "ENERGIA_INTERNA = 10000000\n",
    "VOLUME = 360000\n",
    "NUMERO_DE_PARTICULAS_1 = 250\n",
    "NUMERO_DE_PARTICULAS_2 = 20\n",
    "RAIO_PARTICULA_1 = 1\n",
    "RAIO_PARTICULA_2 = 2\n",
    "\n",
    "N = 1\n",
    "PERIOD = 3\n",
    "MEAN_TERMS = 1\n",
    "#PERIOD = 10\n",
    "\n",
    "concs = np.zeros((3, PERIOD+1))\n",
    "for i in range(MEAN_TERMS):\n",
    "    for i in range(N):\n",
    "        Sistema_particulas = Sistema(ENERGIA_INTERNA, VOLUME, NUMERO_DE_PARTICULAS_1, NUMERO_DE_PARTICULAS_2, RAIO_PARTICULA_1, RAIO_PARTICULA_2)\n",
    "        Sistema_particulas.main(0.01, PERIOD, i, N)\n",
    "    concs = concs + np.array([Sistema_particulas.concentracoes['A'], Sistema_particulas.concentracoes['B'], Sistema_particulas.concentracoes['C']])\n",
    "\n",
    "concs = concs/10    \n",
    "np.save('capturas.npy', concs)"
   ]
  },
  {
   "cell_type": "code",
   "execution_count": 3,
   "id": "5afdfef5-b6cd-463b-9107-5ffe4a49e5d3",
   "metadata": {},
   "outputs": [
    {
     "data": {
      "text/plain": [
       "array([[250, 250, 250, 250],\n",
       "       [ 20,  20,  20,  20],\n",
       "       [  0,   0,   0,   0]])"
      ]
     },
     "execution_count": 3,
     "metadata": {},
     "output_type": "execute_result"
    }
   ],
   "source": [
    "np.array([Sistema_particulas.concentracoes['A'], Sistema_particulas.concentracoes['B'], Sistema_particulas.concentracoes['C']])\n"
   ]
  },
  {
   "cell_type": "code",
   "execution_count": 4,
   "id": "51ae8eae-835a-44c1-bf18-7e2dfdfffd1c",
   "metadata": {},
   "outputs": [
    {
     "data": {
      "text/plain": [
       "array([[0., 0., 0., 0.],\n",
       "       [0., 0., 0., 0.],\n",
       "       [0., 0., 0., 0.]])"
      ]
     },
     "execution_count": 4,
     "metadata": {},
     "output_type": "execute_result"
    }
   ],
   "source": [
    "np.zeros((3, PERIOD+1))"
   ]
  },
  {
   "cell_type": "code",
   "execution_count": 5,
   "id": "06367229",
   "metadata": {},
   "outputs": [],
   "source": [
    "frames = []\n",
    "for i in range(N):\n",
    "    image = imageio.imread(f'./GIF - mps capture simulation/Imagem {i}.jpg')\n",
    "    frames.append(image)"
   ]
  },
  {
   "cell_type": "code",
   "execution_count": 6,
   "id": "351cd31c",
   "metadata": {},
   "outputs": [],
   "source": [
    "imageio.mimsave('./mps capture simulation.gif', # output gif\n",
    "               frames,          # array of input frames\n",
    "               duration = 0.1)         # optional: frames per second"
   ]
  },
  {
   "cell_type": "code",
   "execution_count": 7,
   "id": "19bf4c5e-815a-4138-bdf2-3f1319f0218a",
   "metadata": {},
   "outputs": [],
   "source": [
    "concs = np.array([Sistema_particulas.concentracoes['A'], Sistema_particulas.concentracoes['B'], Sistema_particulas.concentracoes['C']])\n",
    "np.save('capturas.npy', concs)"
   ]
  }
 ],
 "metadata": {
  "kernelspec": {
   "display_name": "ilumpy",
   "language": "python",
   "name": "ilumpy"
  },
  "language_info": {
   "codemirror_mode": {
    "name": "ipython",
    "version": 3
   },
   "file_extension": ".py",
   "mimetype": "text/x-python",
   "name": "python",
   "nbconvert_exporter": "python",
   "pygments_lexer": "ipython3",
   "version": "3.9.7"
  }
 },
 "nbformat": 4,
 "nbformat_minor": 5
}
